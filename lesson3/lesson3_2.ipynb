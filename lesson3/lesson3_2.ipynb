{
 "cells": [
  {
   "cell_type": "markdown",
   "id": "b6a3fb30",
   "metadata": {},
   "source": [
    "### 複合指定運算子"
   ]
  },
  {
   "cell_type": "code",
   "execution_count": 1,
   "id": "1edd0702",
   "metadata": {},
   "outputs": [
    {
     "name": "stdout",
     "output_type": "stream",
     "text": [
      "10\n"
     ]
    }
   ],
   "source": [
    "n = 10\n",
    "n + 1\n",
    "print(n)"
   ]
  },
  {
   "cell_type": "code",
   "execution_count": 5,
   "id": "8db01264",
   "metadata": {},
   "outputs": [
    {
     "name": "stdout",
     "output_type": "stream",
     "text": [
      "11 100\n"
     ]
    }
   ],
   "source": [
    "n = 10\n",
    "#n = n + 1\n",
    "n += 1 #複合指定運算子，加減乘除都可用\n",
    "m = 10\n",
    "m *= 10\n",
    "print(n,m)"
   ]
  },
  {
   "cell_type": "code",
   "execution_count": 6,
   "id": "0f1b88d8",
   "metadata": {},
   "outputs": [
    {
     "name": "stdout",
     "output_type": "stream",
     "text": [
      "三數總和為:460.8\n"
     ]
    }
   ],
   "source": [
    "total = 0.0\n",
    "n =float(input(\"請輸入第一個數:\"))\n",
    "total += n\n",
    "n =float(input(\"請輸入第二個數:\"))\n",
    "total += n\n",
    "n =float(input(\"請輸入第三個數:\"))\n",
    "total += n\n",
    "\n",
    "print(f\"三數總和為:{total}\")"
   ]
  }
 ],
 "metadata": {
  "kernelspec": {
   "display_name": "base",
   "language": "python",
   "name": "python3"
  },
  "language_info": {
   "codemirror_mode": {
    "name": "ipython",
    "version": 3
   },
   "file_extension": ".py",
   "mimetype": "text/x-python",
   "name": "python",
   "nbconvert_exporter": "python",
   "pygments_lexer": "ipython3",
   "version": "3.12.7"
  }
 },
 "nbformat": 4,
 "nbformat_minor": 5
}
