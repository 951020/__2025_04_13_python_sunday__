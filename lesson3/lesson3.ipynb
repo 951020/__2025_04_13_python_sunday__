{
 "cells": [
  {
   "cell_type": "markdown",
   "id": "bcfca8ed",
   "metadata": {},
   "source": [
    "## 這裡是第3節上課內容"
   ]
  },
  {
   "cell_type": "code",
   "execution_count": 7,
   "id": "7fb86689",
   "metadata": {},
   "outputs": [
    {
     "name": "stdout",
     "output_type": "stream",
     "text": [
      "矩形的寬:345.8 高:100 面積:34580.0\n"
     ]
    }
   ],
   "source": [
    "width = 345.8\n",
    "height = 100\n",
    "type(width)\n",
    "type(height)\n",
    "area = width * height#float*int=float\n",
    "type(area)\n",
    "print(f\"矩形的寬:{width} 高:{height} 面積:{round(area,ndigits=2)}\")"
   ]
  },
  {
   "cell_type": "markdown",
   "id": "9f74da5e",
   "metadata": {},
   "source": [
    "## 重點是input()"
   ]
  },
  {
   "cell_type": "code",
   "execution_count": 11,
   "id": "4759e9e0",
   "metadata": {},
   "outputs": [
    {
     "data": {
      "text/plain": [
       "float"
      ]
     },
     "execution_count": 11,
     "metadata": {},
     "output_type": "execute_result"
    }
   ],
   "source": [
    "width_input = input(\"請輸入矩形的寬:\")\n",
    "type(width_input)\n",
    "width_value = float(width_input)\n",
    "type(width_value)"
   ]
  },
  {
   "cell_type": "code",
   "execution_count": 12,
   "id": "e2097605",
   "metadata": {},
   "outputs": [
    {
     "name": "stdout",
     "output_type": "stream",
     "text": [
      "矩形的寬:775.0 高:88.0 面積:68200.0\n"
     ]
    }
   ],
   "source": [
    "width = float(input(\"請輸入矩形的寬:\"))\n",
    "height = float(input(\"請輸入矩形的高:\"))\n",
    "area = width * height#float*int=float\n",
    "print(f\"矩形的寬:{width} 高:{height} 面積:{round(area,ndigits=2)}\")"
   ]
  }
 ],
 "metadata": {
  "kernelspec": {
   "display_name": "base",
   "language": "python",
   "name": "python3"
  },
  "language_info": {
   "codemirror_mode": {
    "name": "ipython",
    "version": 3
   },
   "file_extension": ".py",
   "mimetype": "text/x-python",
   "name": "python",
   "nbconvert_exporter": "python",
   "pygments_lexer": "ipython3",
   "version": "3.12.7"
  }
 },
 "nbformat": 4,
 "nbformat_minor": 5
}
