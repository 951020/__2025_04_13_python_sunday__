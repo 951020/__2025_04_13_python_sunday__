{
 "cells": [
  {
   "cell_type": "markdown",
   "metadata": {
    "colab_type": "text",
    "id": "view-in-github"
   },
   "source": [
    "<a href=\"https://colab.research.google.com/github/roberthsu2003/__2025_04_13_python_sunday__/blob/main/lesson2_1.ipynb\" target=\"_parent\"><img src=\"https://colab.research.google.com/assets/colab-badge.svg\" alt=\"Open In Colab\"/></a>"
   ]
  },
  {
   "cell_type": "code",
   "execution_count": 1,
   "metadata": {
    "colab": {
     "base_uri": "https://localhost:8080/",
     "height": 35
    },
    "id": "IAPVo65xvl2A",
    "outputId": "30e73fa7-d139-4f82-d289-726092207700"
   },
   "outputs": [
    {
     "data": {
      "application/vnd.google.colaboratory.intrinsic+json": {
       "type": "string"
      },
      "text/plain": [
       "'這是字串'"
      ]
     },
     "execution_count": 1,
     "metadata": {},
     "output_type": "execute_result"
    }
   ],
   "source": [
    "\"這是字串\""
   ]
  },
  {
   "cell_type": "code",
   "execution_count": 2,
   "metadata": {
    "colab": {
     "base_uri": "https://localhost:8080/",
     "height": 35
    },
    "id": "qd0rLmJJwleg",
    "outputId": "063f0677-46b4-4e59-c961-671626ec09ce"
   },
   "outputs": [
    {
     "data": {
      "application/vnd.google.colaboratory.intrinsic+json": {
       "type": "string"
      },
      "text/plain": [
       "'這也是字串'"
      ]
     },
     "execution_count": 2,
     "metadata": {},
     "output_type": "execute_result"
    }
   ],
   "source": [
    "'這也是字串'"
   ]
  },
  {
   "cell_type": "code",
   "execution_count": 8,
   "metadata": {
    "colab": {
     "base_uri": "https://localhost:8080/"
    },
    "id": "PsRCcIgYwup0",
    "outputId": "73476acd-9c50-403c-c495-ff34324e3e91"
   },
   "outputs": [
    {
     "name": "stdout",
     "output_type": "stream",
     "text": [
      "這是第1個數值:10\n",
      "這是第2個數值:20.0\n"
     ]
    }
   ],
   "source": [
    "print('這是第1個數值:' + str(10) + \"\\n這是第2個數值:\" + str(20.0))"
   ]
  },
  {
   "cell_type": "code",
   "execution_count": 9,
   "metadata": {
    "colab": {
     "base_uri": "https://localhost:8080/"
    },
    "id": "kv5Ys8hkzgN6",
    "outputId": "57d0a01f-186b-4ab4-8b12-fe689d9bcc59"
   },
   "outputs": [
    {
     "name": "stdout",
     "output_type": "stream",
     "text": [
      "這是第1個數值: 10 \n",
      "這是第2個數值: 20.0\n"
     ]
    }
   ],
   "source": [
    "print('這是第1個數值:',str(10), \"\\n這是第2個數值:\", str(20.0))"
   ]
  },
  {
   "cell_type": "markdown",
   "metadata": {
    "id": "6f0JlZRAz9KC"
   },
   "source": [
    "### 字串插補"
   ]
  },
  {
   "cell_type": "code",
   "execution_count": 12,
   "metadata": {
    "colab": {
     "base_uri": "https://localhost:8080/"
    },
    "id": "RFRdVB3Tz4gN",
    "outputId": "a57ceeef-471b-4802-ab57-a11236fe0645"
   },
   "outputs": [
    {
     "name": "stdout",
     "output_type": "stream",
     "text": [
      "這是第1個數值:10\n",
      "這是第2個數值:20.0\n"
     ]
    }
   ],
   "source": [
    "print(f\"這是第1個數值:{10}\\n這是第2個數值:{20.0}\")"
   ]
  }
 ],
 "metadata": {
  "colab": {
   "authorship_tag": "ABX9TyOl7oX3PnCCa15Qaj9HjOLu",
   "include_colab_link": true,
   "provenance": []
  },
  "kernelspec": {
   "display_name": "base",
   "language": "python",
   "name": "python3"
  },
  "language_info": {
   "name": "python",
   "version": "3.12.7"
  }
 },
 "nbformat": 4,
 "nbformat_minor": 0
}
