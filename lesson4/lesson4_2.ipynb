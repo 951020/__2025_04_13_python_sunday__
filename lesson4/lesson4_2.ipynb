{
 "cells": [
  {
   "cell_type": "markdown",
   "id": "fa4b000a",
   "metadata": {},
   "source": [
    "## if-> 流程控制"
   ]
  },
  {
   "cell_type": "code",
   "execution_count": 1,
   "id": "8b075824",
   "metadata": {},
   "outputs": [
    {
     "name": "stdout",
     "output_type": "stream",
     "text": [
      "這是雙向選擇\n",
      "這是True的程式區塊\n"
     ]
    }
   ],
   "source": [
    "if True:\n",
    "    print(\"這是雙向選擇\")\n",
    "    print(\"這是True的程式區塊\")\n",
    "else:\n",
    "    print(\"這是雙向選擇\")\n",
    "    print(\"這是False的程式區塊\")"
   ]
  },
  {
   "cell_type": "code",
   "execution_count": 2,
   "id": "2a7473b5",
   "metadata": {},
   "outputs": [
    {
     "name": "stdout",
     "output_type": "stream",
     "text": [
      "這是雙向選擇\n",
      "這是False的程式區塊\n"
     ]
    }
   ],
   "source": [
    "if False:\n",
    "    print(\"這是雙向選擇\")\n",
    "    print(\"這是True的程式區塊\")\n",
    "else:\n",
    "    print(\"這是雙向選擇\")\n",
    "    print(\"這是False的程式區塊\")"
   ]
  },
  {
   "cell_type": "code",
   "execution_count": null,
   "id": "3b2c70b5",
   "metadata": {},
   "outputs": [
    {
     "name": "stdout",
     "output_type": "stream",
     "text": [
      "未成年\n"
     ]
    }
   ],
   "source": [
    "age = int(input(\"請輸入age\"))\n",
    "if age <= 18:\n",
    "    print(\"未成年\")\n",
    "else:\n",
    "    print(\"成年\")"
   ]
  },
  {
   "cell_type": "code",
   "execution_count": 2,
   "id": "7e067c5b",
   "metadata": {},
   "outputs": [
    {
     "name": "stdout",
     "output_type": "stream",
     "text": [
      "學生分數是:97\n"
     ]
    }
   ],
   "source": [
    "scores = int(input(\"請輸入學生分數(最高300分):\"))\n",
    "is_add = input(\"學生是否符合加分條件?(y,n)\")\n",
    "if (is_add == \"y\"):\n",
    "    scores *= 1.05\n",
    "    \n",
    "print(f\"學生分數是:{round(scores)}\")"
   ]
  }
 ],
 "metadata": {
  "kernelspec": {
   "display_name": "base",
   "language": "python",
   "name": "python3"
  },
  "language_info": {
   "codemirror_mode": {
    "name": "ipython",
    "version": 3
   },
   "file_extension": ".py",
   "mimetype": "text/x-python",
   "name": "python",
   "nbconvert_exporter": "python",
   "pygments_lexer": "ipython3",
   "version": "3.12.7"
  }
 },
 "nbformat": 4,
 "nbformat_minor": 5
}
