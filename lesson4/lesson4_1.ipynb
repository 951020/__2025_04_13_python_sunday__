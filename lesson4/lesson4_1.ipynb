{
 "cells": [
  {
   "cell_type": "markdown",
   "id": "4b214933",
   "metadata": {},
   "source": [
    "## 計算三角形的角度"
   ]
  },
  {
   "cell_type": "code",
   "execution_count": 4,
   "id": "e15118f9",
   "metadata": {},
   "outputs": [
    {
     "name": "stdout",
     "output_type": "stream",
     "text": [
      "對邊: 3.0\n",
      "斜邊: 5.0\n",
      "徑度: 0.6435011087932844\n",
      "角度 36.87\n"
     ]
    }
   ],
   "source": [
    "import math\n",
    "\n",
    "side = float(input(\"請輸入對邊:\"))\n",
    "another_side = float(input(\"請輸入斜邊:\"))\n",
    "radians = math.asin(side / another_side)\n",
    "degree = math.degrees(radians)\n",
    "\n",
    "print(\"對邊:\",side)\n",
    "print(\"斜邊:\",another_side)\n",
    "print(\"徑度:\",radians)\n",
    "print(\"角度\",round(degree,ndigits=2))"
   ]
  },
  {
   "cell_type": "markdown",
   "id": "ad7a8623",
   "metadata": {},
   "source": [
    "## tuple"
   ]
  },
  {
   "cell_type": "code",
   "execution_count": 1,
   "id": "2296786d",
   "metadata": {},
   "outputs": [
    {
     "data": {
      "text/plain": [
       "(56, 77, 83)"
      ]
     },
     "execution_count": 1,
     "metadata": {},
     "output_type": "execute_result"
    }
   ],
   "source": [
    "56,77,83"
   ]
  },
  {
   "cell_type": "markdown",
   "id": "a83920ac",
   "metadata": {},
   "source": [
    "### 大學的統計，標準差"
   ]
  },
  {
   "cell_type": "code",
   "execution_count": 5,
   "id": "828622b4",
   "metadata": {},
   "outputs": [
    {
     "name": "stdout",
     "output_type": "stream",
     "text": [
      "99.0 34.0 53.0\n",
      "平均:62.00\n",
      "標準差:33.42\n"
     ]
    }
   ],
   "source": [
    "import statistics\n",
    "\n",
    "n1 =float(input(\"請輸入第1個數:\"))\n",
    "n2 =float(input(\"請輸入第2個數:\"))\n",
    "n3 =float(input(\"請輸入第3個數:\"))\n",
    "average = statistics.mean((n1,n2,n3))\n",
    "std = statistics.stdev((n1,n2,n3))\n",
    "print(n1,n2,n3)\n",
    "print(f\"平均:{average:.2f}\")\n",
    "print(f\"標準差:{std:.2f}\")"
   ]
  }
 ],
 "metadata": {
  "kernelspec": {
   "display_name": "base",
   "language": "python",
   "name": "python3"
  },
  "language_info": {
   "codemirror_mode": {
    "name": "ipython",
    "version": 3
   },
   "file_extension": ".py",
   "mimetype": "text/x-python",
   "name": "python",
   "nbconvert_exporter": "python",
   "pygments_lexer": "ipython3",
   "version": "3.12.7"
  }
 },
 "nbformat": 4,
 "nbformat_minor": 5
}
