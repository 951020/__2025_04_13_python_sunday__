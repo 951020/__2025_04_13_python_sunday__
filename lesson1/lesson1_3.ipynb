{
  "nbformat": 4,
  "nbformat_minor": 0,
  "metadata": {
    "colab": {
      "provenance": [],
      "authorship_tag": "ABX9TyNOP+R0M0pe8nh7J7E3J50A",
      "include_colab_link": true
    },
    "kernelspec": {
      "name": "python3",
      "display_name": "Python 3"
    },
    "language_info": {
      "name": "python"
    }
  },
  "cells": [
    {
      "cell_type": "markdown",
      "metadata": {
        "id": "view-in-github",
        "colab_type": "text"
      },
      "source": [
        "<a href=\"https://colab.research.google.com/github/roberthsu2003/__2025_04_13_python_sunday__/blob/main/lesson1/lesson1_3.ipynb\" target=\"_parent\"><img src=\"https://colab.research.google.com/assets/colab-badge.svg\" alt=\"Open In Colab\"/></a>"
      ]
    },
    {
      "cell_type": "code",
      "execution_count": null,
      "metadata": {
        "colab": {
          "base_uri": "https://localhost:8080/"
        },
        "id": "GK7Ss-Et-obb",
        "outputId": "2e310f1a-7750-420a-e1a1-14398cd3103e"
      },
      "outputs": [
        {
          "output_type": "stream",
          "name": "stdout",
          "text": [
            "這是python的第1節課\n"
          ]
        }
      ],
      "source": [
        "print(\"這是python的第1節課\")"
      ]
    },
    {
      "cell_type": "code",
      "source": [
        "10 #代表int\n",
        "10.0 #代表float\n",
        "\"10.0\" #代表str\n",
        "'10.0' #代表str\n",
        "True #代表bool\n",
        "False #代表bool"
      ],
      "metadata": {
        "id": "Xm9TOkOzF6ah"
      },
      "execution_count": null,
      "outputs": []
    },
    {
      "cell_type": "markdown",
      "source": [
        "### 只有數值的類型可以做數學運算"
      ],
      "metadata": {
        "id": "FG0ut-xnL9j3"
      }
    },
    {
      "cell_type": "code",
      "source": [
        "19 + 571\n",
        "19.0 + 571.0\n",
        "19 + 571.0 #int + float\n",
        "#\"19\" + 571.0 #字串不可以加上數值\n",
        "\"19\" + \"571.0\""
      ],
      "metadata": {
        "colab": {
          "base_uri": "https://localhost:8080/",
          "height": 35
        },
        "id": "JDOHpfODKn_I",
        "outputId": "db07a441-83e2-41b4-ce28-f4e21b46e904"
      },
      "execution_count": 8,
      "outputs": [
        {
          "output_type": "execute_result",
          "data": {
            "text/plain": [
              "'19571.0'"
            ],
            "application/vnd.google.colaboratory.intrinsic+json": {
              "type": "string"
            }
          },
          "metadata": {},
          "execution_count": 8
        }
      ]
    },
    {
      "cell_type": "markdown",
      "source": [
        "### 使用print()顯示結果(沒有格式)\n",
        "### 使用display()顯示結果(格式)"
      ],
      "metadata": {
        "id": "sPja-qu3Ni5P"
      }
    },
    {
      "cell_type": "code",
      "source": [
        "print(19 + 571)\n",
        "print(19.0 + 571.0)\n",
        "print(19 + 571.0) #int + float\n",
        "#\"19\" + 571.0 #字串不可以加上數值\n",
        "print(\"19\" + \"571.0\")"
      ],
      "metadata": {
        "id": "OLGG8iQKNhc6",
        "outputId": "3617f8e0-8125-40ec-8359-4c3b24695c9a",
        "colab": {
          "base_uri": "https://localhost:8080/"
        }
      },
      "execution_count": 11,
      "outputs": [
        {
          "output_type": "stream",
          "name": "stdout",
          "text": [
            "590\n",
            "590.0\n",
            "590.0\n",
            "19571.0\n"
          ]
        }
      ]
    }
  ]
}