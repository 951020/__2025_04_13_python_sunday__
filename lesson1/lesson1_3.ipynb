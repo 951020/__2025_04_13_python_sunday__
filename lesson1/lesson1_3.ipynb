{
  "nbformat": 4,
  "nbformat_minor": 0,
  "metadata": {
    "colab": {
      "provenance": [],
      "authorship_tag": "ABX9TyOPx8NVshizN1z7Wl3C6bFD",
      "include_colab_link": true
    },
    "kernelspec": {
      "name": "python3",
      "display_name": "Python 3"
    },
    "language_info": {
      "name": "python"
    }
  },
  "cells": [
    {
      "cell_type": "markdown",
      "metadata": {
        "id": "view-in-github",
        "colab_type": "text"
      },
      "source": [
        "<a href=\"https://colab.research.google.com/github/roberthsu2003/__2025_04_13_python_sunday__/blob/main/lesson1/lesson1_3.ipynb\" target=\"_parent\"><img src=\"https://colab.research.google.com/assets/colab-badge.svg\" alt=\"Open In Colab\"/></a>"
      ]
    },
    {
      "cell_type": "code",
      "execution_count": null,
      "metadata": {
        "colab": {
          "base_uri": "https://localhost:8080/"
        },
        "id": "GK7Ss-Et-obb",
        "outputId": "2e310f1a-7750-420a-e1a1-14398cd3103e"
      },
      "outputs": [
        {
          "output_type": "stream",
          "name": "stdout",
          "text": [
            "這是python的第1節課\n"
          ]
        }
      ],
      "source": [
        "print(\"這是python的第1節課\")"
      ]
    },
    {
      "cell_type": "code",
      "source": [
        "10 #代表int\n",
        "10.0 #代表float\n",
        "\"10.0\" #代表str\n",
        "'10.0' #代表str\n",
        "True #代表bool\n",
        "False #代表bool"
      ],
      "metadata": {
        "id": "Xm9TOkOzF6ah"
      },
      "execution_count": null,
      "outputs": []
    },
    {
      "cell_type": "markdown",
      "source": [
        "### 只有數值的類型可以做數學運算"
      ],
      "metadata": {
        "id": "FG0ut-xnL9j3"
      }
    },
    {
      "cell_type": "code",
      "source": [
        "19 + 571\n",
        "19.0 + 571.0\n",
        "19 + 571.0 #int + float\n",
        "#\"19\" + 571.0 #字串不可以加上數值\n",
        "\"19\" + \"571.0\""
      ],
      "metadata": {
        "colab": {
          "base_uri": "https://localhost:8080/",
          "height": 35
        },
        "id": "JDOHpfODKn_I",
        "outputId": "db07a441-83e2-41b4-ce28-f4e21b46e904"
      },
      "execution_count": 8,
      "outputs": [
        {
          "output_type": "execute_result",
          "data": {
            "text/plain": [
              "'19571.0'"
            ],
            "application/vnd.google.colaboratory.intrinsic+json": {
              "type": "string"
            }
          },
          "metadata": {},
          "execution_count": 8
        }
      ]
    },
    {
      "cell_type": "markdown",
      "source": [
        "### 使用print()顯示結果(沒有格式)\n",
        "### 使用display()顯示結果(格式)"
      ],
      "metadata": {
        "id": "sPja-qu3Ni5P"
      }
    },
    {
      "cell_type": "code",
      "source": [
        "print(19 + 571)\n",
        "print(19.0 + 571.0)\n",
        "print(19 + 571.0) #int + float\n",
        "#\"19\" + 571.0 #字串不可以加上數值\n",
        "print(\"19\" + \"571.0\")"
      ],
      "metadata": {
        "colab": {
          "base_uri": "https://localhost:8080/"
        },
        "id": "OLGG8iQKNhc6",
        "outputId": "3617f8e0-8125-40ec-8359-4c3b24695c9a"
      },
      "execution_count": 11,
      "outputs": [
        {
          "output_type": "stream",
          "name": "stdout",
          "text": [
            "590\n",
            "590.0\n",
            "590.0\n",
            "19571.0\n"
          ]
        }
      ]
    },
    {
      "cell_type": "code",
      "source": [
        "5 + 8\n",
        "90 - 10\n",
        "4 * 7\n",
        "7 / 2 #浮點數除法\n",
        "7 // 2 #整數除法\n",
        "7 % 2 #餘數\n",
        "3 ** 4 #次方"
      ],
      "metadata": {
        "colab": {
          "base_uri": "https://localhost:8080/"
        },
        "id": "LXjHDaUkQJ7p",
        "outputId": "5c67c47c-9435-4faa-fdce-ebe0d739542d"
      },
      "execution_count": 18,
      "outputs": [
        {
          "output_type": "execute_result",
          "data": {
            "text/plain": [
              "81"
            ]
          },
          "metadata": {},
          "execution_count": 18
        }
      ]
    },
    {
      "cell_type": "code",
      "source": [
        "99 ** 99"
      ],
      "metadata": {
        "colab": {
          "base_uri": "https://localhost:8080/"
        },
        "id": "GpwwIYn8QwAB",
        "outputId": "f05bf1e3-25f3-42c1-aad1-24c47ca60232"
      },
      "execution_count": 19,
      "outputs": [
        {
          "output_type": "execute_result",
          "data": {
            "text/plain": [
              "369729637649726772657187905628805440595668764281741102430259972423552570455277523421410650010128232727940978889548326540119429996769494359451621570193644014418071060667659301384999779999159200499899"
            ]
          },
          "metadata": {},
          "execution_count": 19
        }
      ]
    },
    {
      "cell_type": "markdown",
      "source": [
        "### 一個運算子做1個動作\n",
        "### 數學運算子有優先順序"
      ],
      "metadata": {
        "id": "m2dbo74uR4Ky"
      }
    },
    {
      "cell_type": "code",
      "source": [
        "print(2 + 3 * 4)\n",
        "print((2 + 3) * 4)\n",
        "print(2 * (1 + 2) ** 2 - 2 ** 2 * 2)"
      ],
      "metadata": {
        "colab": {
          "base_uri": "https://localhost:8080/"
        },
        "id": "P_9xCv3sR-9H",
        "outputId": "ef7863bd-b56f-4520-d12d-a559e2534d29"
      },
      "execution_count": 22,
      "outputs": [
        {
          "output_type": "stream",
          "name": "stdout",
          "text": [
            "14\n",
            "20\n",
            "10\n"
          ]
        }
      ]
    },
    {
      "cell_type": "markdown",
      "source": [
        "### 內建的function(函式)\n",
        "### print()如何使用\n",
        "\n",
        "print(*objects, sep=' ', end='\\n', file=None, flush=False)\n",
        "\n",
        "*objects -> 沒有限定數量的引數值呼叫"
      ],
      "metadata": {
        "id": "7l69LCwFUh-6"
      }
    },
    {
      "cell_type": "code",
      "source": [
        "print(15,27.0,'Hello',True,3 ** 4)"
      ],
      "metadata": {
        "id": "7NmuQfKFV5SC",
        "outputId": "2f37e515-6737-46f2-f312-0eddb676b10d",
        "colab": {
          "base_uri": "https://localhost:8080/"
        }
      },
      "execution_count": 28,
      "outputs": [
        {
          "output_type": "stream",
          "name": "stdout",
          "text": [
            "15 27.0 Hello True 81\n"
          ]
        }
      ]
    },
    {
      "cell_type": "markdown",
      "source": [
        "### round(number, ndigits=None)"
      ],
      "metadata": {
        "id": "TTF12PebW3NB"
      }
    },
    {
      "cell_type": "code",
      "source": [
        "print(round(56.589))\n",
        "print(round(56.589,ndigits=1))\n",
        "print(round(56.589,ndigits=2))"
      ],
      "metadata": {
        "id": "fResrIt1Wxoe",
        "outputId": "7bf2081d-5165-475c-c1a2-ebd9a968fc79",
        "colab": {
          "base_uri": "https://localhost:8080/"
        }
      },
      "execution_count": 34,
      "outputs": [
        {
          "output_type": "execute_result",
          "data": {
            "text/plain": [
              "56.59"
            ]
          },
          "metadata": {},
          "execution_count": 34
        }
      ]
    }
  ]
}