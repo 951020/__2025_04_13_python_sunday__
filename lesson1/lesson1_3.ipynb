{
 "cells": [
  {
   "cell_type": "markdown",
   "metadata": {
    "colab_type": "text",
    "id": "view-in-github"
   },
   "source": [
    "<a href=\"https://colab.research.google.com/github/roberthsu2003/__2025_04_13_python_sunday__/blob/main/lesson1/lesson1_3.ipynb\" target=\"_parent\"><img src=\"https://colab.research.google.com/assets/colab-badge.svg\" alt=\"Open In Colab\"/></a>"
   ]
  },
  {
   "cell_type": "code",
   "execution_count": 1,
   "metadata": {
    "colab": {
     "base_uri": "https://localhost:8080/"
    },
    "id": "GK7Ss-Et-obb",
    "outputId": "2e310f1a-7750-420a-e1a1-14398cd3103e"
   },
   "outputs": [
    {
     "name": "stdout",
     "output_type": "stream",
     "text": [
      "這是python的第1節課\n"
     ]
    }
   ],
   "source": [
    "print(\"這是python的第1節課\")"
   ]
  },
  {
   "cell_type": "code",
   "execution_count": 2,
   "metadata": {
    "id": "Xm9TOkOzF6ah"
   },
   "outputs": [
    {
     "data": {
      "text/plain": [
       "False"
      ]
     },
     "execution_count": 2,
     "metadata": {},
     "output_type": "execute_result"
    }
   ],
   "source": [
    "10 #代表int\n",
    "10.0 #代表float\n",
    "\"10.0\" #代表str\n",
    "'10.0' #代表str\n",
    "True #代表bool\n",
    "False #代表bool"
   ]
  },
  {
   "cell_type": "markdown",
   "metadata": {
    "id": "FG0ut-xnL9j3"
   },
   "source": [
    "### 只有數值的類型可以做數學運算"
   ]
  },
  {
   "cell_type": "code",
   "execution_count": 8,
   "metadata": {
    "colab": {
     "base_uri": "https://localhost:8080/",
     "height": 35
    },
    "id": "JDOHpfODKn_I",
    "outputId": "db07a441-83e2-41b4-ce28-f4e21b46e904"
   },
   "outputs": [
    {
     "data": {
      "application/vnd.google.colaboratory.intrinsic+json": {
       "type": "string"
      },
      "text/plain": [
       "'19571.0'"
      ]
     },
     "execution_count": 8,
     "metadata": {},
     "output_type": "execute_result"
    }
   ],
   "source": [
    "19 + 571\n",
    "19.0 + 571.0\n",
    "19 + 571.0 #int + float\n",
    "#\"19\" + 571.0 #字串不可以加上數值\n",
    "\"19\" + \"571.0\""
   ]
  },
  {
   "cell_type": "markdown",
   "metadata": {
    "id": "sPja-qu3Ni5P"
   },
   "source": [
    "### 使用print()顯示結果(沒有格式)\n",
    "### 使用display()顯示結果(格式)"
   ]
  },
  {
   "cell_type": "code",
   "execution_count": 11,
   "metadata": {
    "colab": {
     "base_uri": "https://localhost:8080/"
    },
    "id": "OLGG8iQKNhc6",
    "outputId": "3617f8e0-8125-40ec-8359-4c3b24695c9a"
   },
   "outputs": [
    {
     "name": "stdout",
     "output_type": "stream",
     "text": [
      "590\n",
      "590.0\n",
      "590.0\n",
      "19571.0\n"
     ]
    }
   ],
   "source": [
    "print(19 + 571)\n",
    "print(19.0 + 571.0)\n",
    "print(19 + 571.0) #int + float\n",
    "#\"19\" + 571.0 #字串不可以加上數值\n",
    "print(\"19\" + \"571.0\")"
   ]
  },
  {
   "cell_type": "code",
   "execution_count": 18,
   "metadata": {
    "colab": {
     "base_uri": "https://localhost:8080/"
    },
    "id": "LXjHDaUkQJ7p",
    "outputId": "5c67c47c-9435-4faa-fdce-ebe0d739542d"
   },
   "outputs": [
    {
     "data": {
      "text/plain": [
       "81"
      ]
     },
     "execution_count": 18,
     "metadata": {},
     "output_type": "execute_result"
    }
   ],
   "source": [
    "5 + 8\n",
    "90 - 10\n",
    "4 * 7\n",
    "7 / 2 #浮點數除法\n",
    "7 // 2 #整數除法\n",
    "7 % 2 #餘數\n",
    "3 ** 4 #次方"
   ]
  },
  {
   "cell_type": "code",
   "execution_count": 19,
   "metadata": {
    "colab": {
     "base_uri": "https://localhost:8080/"
    },
    "id": "GpwwIYn8QwAB",
    "outputId": "f05bf1e3-25f3-42c1-aad1-24c47ca60232"
   },
   "outputs": [
    {
     "data": {
      "text/plain": [
       "369729637649726772657187905628805440595668764281741102430259972423552570455277523421410650010128232727940978889548326540119429996769494359451621570193644014418071060667659301384999779999159200499899"
      ]
     },
     "execution_count": 19,
     "metadata": {},
     "output_type": "execute_result"
    }
   ],
   "source": [
    "99 ** 99"
   ]
  },
  {
   "cell_type": "markdown",
   "metadata": {
    "id": "m2dbo74uR4Ky"
   },
   "source": [
    "### 一個運算子做1個動作\n",
    "### 數學運算子有優先順序"
   ]
  },
  {
   "cell_type": "code",
   "execution_count": 22,
   "metadata": {
    "colab": {
     "base_uri": "https://localhost:8080/"
    },
    "id": "P_9xCv3sR-9H",
    "outputId": "ef7863bd-b56f-4520-d12d-a559e2534d29"
   },
   "outputs": [
    {
     "name": "stdout",
     "output_type": "stream",
     "text": [
      "14\n",
      "20\n",
      "10\n"
     ]
    }
   ],
   "source": [
    "print(2 + 3 * 4)\n",
    "print((2 + 3) * 4)\n",
    "print(2 * (1 + 2) ** 2 - 2 ** 2 * 2)"
   ]
  },
  {
   "cell_type": "markdown",
   "metadata": {
    "id": "7l69LCwFUh-6"
   },
   "source": [
    "### 內建的function(函式)\n",
    "### print()如何使用\n",
    "\n",
    "print(*objects, sep=' ', end='\\n', file=None, flush=False)\n",
    "\n",
    "*objects -> 沒有限定數量的引數值呼叫"
   ]
  },
  {
   "cell_type": "code",
   "execution_count": 28,
   "metadata": {
    "colab": {
     "base_uri": "https://localhost:8080/"
    },
    "id": "7NmuQfKFV5SC",
    "outputId": "2f37e515-6737-46f2-f312-0eddb676b10d"
   },
   "outputs": [
    {
     "name": "stdout",
     "output_type": "stream",
     "text": [
      "15 27.0 Hello True 81\n"
     ]
    }
   ],
   "source": [
    "print(15,27.0,'Hello',True,3 ** 4)"
   ]
  },
  {
   "cell_type": "markdown",
   "metadata": {
    "id": "TTF12PebW3NB"
   },
   "source": [
    "### round(number, ndigits=None)"
   ]
  },
  {
   "cell_type": "code",
   "execution_count": 34,
   "metadata": {
    "colab": {
     "base_uri": "https://localhost:8080/"
    },
    "id": "fResrIt1Wxoe",
    "outputId": "7bf2081d-5165-475c-c1a2-ebd9a968fc79"
   },
   "outputs": [
    {
     "data": {
      "text/plain": [
       "56.59"
      ]
     },
     "execution_count": 34,
     "metadata": {},
     "output_type": "execute_result"
    }
   ],
   "source": [
    "print(round(56.589))\n",
    "print(round(56.589,ndigits=1))\n",
    "print(round(56.589,ndigits=2))"
   ]
  }
 ],
 "metadata": {
  "colab": {
   "authorship_tag": "ABX9TyOPx8NVshizN1z7Wl3C6bFD",
   "include_colab_link": true,
   "provenance": []
  },
  "kernelspec": {
   "display_name": "base",
   "language": "python",
   "name": "python3"
  },
  "language_info": {
   "codemirror_mode": {
    "name": "ipython",
    "version": 3
   },
   "file_extension": ".py",
   "mimetype": "text/x-python",
   "name": "python",
   "nbconvert_exporter": "python",
   "pygments_lexer": "ipython3",
   "version": "3.12.7"
  }
 },
 "nbformat": 4,
 "nbformat_minor": 0
}
